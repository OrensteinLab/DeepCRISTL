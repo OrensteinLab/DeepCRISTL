{
 "cells": [
  {
   "cell_type": "code",
   "execution_count": 5,
   "metadata": {},
   "outputs": [],
   "source": [
    "from scipy.stats import wilcoxon\n",
    "import numpy as np\n"
   ]
  },
  {
   "cell_type": "code",
   "execution_count": 9,
   "metadata": {},
   "outputs": [],
   "source": [
    "def test_performance(worse_method, better_method):\n",
    "    # Calculate the differences between the two sets of scores\n",
    "    differences = np.array(better_method) - np.array(worse_method)\n",
    "    \n",
    "    # Perform the Wilcoxon signed-rank test\n",
    "    stat, p_value = wilcoxon(differences, alternative='greater')\n",
    "    \n",
    "    # Output the results\n",
    "    print(\"Wilcoxon signed-rank test statistic:\", stat)\n",
    "    print(\"P-value for the hypothesis that multi-task scores are better:\", p_value)\n",
    "    return stat, p_value"
   ]
  },
  {
   "cell_type": "code",
   "execution_count": 47,
   "metadata": {},
   "outputs": [
    {
     "name": "stdout",
     "output_type": "stream",
     "text": [
      "Wilcoxon signed-rank test statistic: 55.0\n",
      "P-value for the hypothesis that multi-task scores are better: 0.0009765625\n",
      "Wilcoxon signed-rank test statistic: 55.0\n",
      "P-value for the hypothesis that multi-task scores are better: 0.0009765625\n",
      "Wilcoxon signed-rank test statistic: 55.0\n",
      "P-value for the hypothesis that multi-task scores are better: 0.0009765625\n"
     ]
    },
    {
     "data": {
      "text/plain": [
       "(55.0, 0.0009765625)"
      ]
     },
     "execution_count": 47,
     "metadata": {},
     "output_type": "execute_result"
    }
   ],
   "source": [
    "single_task_scores_hf = [0.861217413382761, 0.8524269376228074, 0.8599933187805314, 0.8636625172963411, 0.8611793128653638, 0.8561779115720118, 0.863651710896855, 0.8618047935272972, 0.8507714469824201, 0.8606244143322986]\n",
    "multi_task_scores_hf = [0.8662295843631244, 0.8645542869982946, 0.8644012893802452, 0.8642004807753318, 0.8666213764166861, 0.8653201152020525, 0.8640791681568158, 0.86666781390099, 0.8651604217755707, 0.866049004999972]\n",
    "\n",
    "single_tank_scores_esp = [0.8639322144958477, 0.8628339223802491, 0.8612067738276418, 0.8658728532548371, 0.8630890588512398, 0.861132491819325, 0.8633181230009931, 0.8634616782021346, 0.864848497034418, 0.8635930720701847]\n",
    "multi_task_scores_esp = [0.8694317679296304, 0.8671650087934266, 0.8664237555975335, 0.8673180633338209, 0.866003840209996, 0.8677087815988643, 0.8687479191104704, 0.869364678349674, 0.8678166393877942, 0.8659045521718539]\n",
    "\n",
    "single_task_scores_wt = [0.8679159457184841, 0.8683821248745178, 0.8633313545831587, 0.8656260424391291, 0.8655574516704572, 0.8632100769020945, 0.8639210962387996, 0.8672596561005766, 0.8680934013992531, 0.8679961185049415]\n",
    "multi_task_scores_wt = [0.8733294576593293, 0.8708329169383177, 0.8692321493082518, 0.8711329156686424, 0.8712039499158704, 0.8731595820834706, 0.8708950367786267, 0.8720540738245298, 0.8705329795602408, 0.8717294538728768]\n",
    "\n",
    "test_performance(single_task_scores_hf, multi_task_scores_hf)\n",
    "\n",
    "test_performance(single_tank_scores_esp, multi_task_scores_esp)\n",
    "\n",
    "test_performance(single_task_scores_wt, multi_task_scores_wt)"
   ]
  },
  {
   "cell_type": "code",
   "execution_count": 54,
   "metadata": {},
   "outputs": [
    {
     "name": "stdout",
     "output_type": "stream",
     "text": [
      "0.61058\n",
      "0.6026199999999999\n",
      "0.60246\n",
      "0.59846\n",
      "Wilcoxon signed-rank test statistic: 3.0\n",
      "P-value for the hypothesis that multi-task scores are better: 0.90625\n",
      "Wilcoxon signed-rank test statistic: 5.0\n",
      "P-value for the hypothesis that multi-task scores are better: 0.78125\n",
      "Wilcoxon signed-rank test statistic: 12.0\n",
      "P-value for the hypothesis that multi-task scores are better: 0.15625\n"
     ]
    },
    {
     "data": {
      "text/plain": [
       "(12.0, 0.15625)"
      ]
     },
     "execution_count": 54,
     "metadata": {},
     "output_type": "execute_result"
    }
   ],
   "source": [
    "dhf_doench_mm_full = [0.6379,0.5962,0.5818,0.6024,0.6346]\n",
    "dhf_doench_mm_ll = [0.6158,0.5965,0.5765 ,0.6134 ,0.6109]\n",
    "dhf_doench_mm_gl = [0.6192,0.5959,0.5762,0.6102,0.6108]\n",
    "dhf_doench_mm_no_em = [0.6209,0.5853,0.5675,0.5999,0.6187]\n",
    "\n",
    "# print averages\n",
    "print(np.mean(dhf_doench_mm_full))\n",
    "print(np.mean(dhf_doench_mm_ll))\n",
    "print(np.mean(dhf_doench_mm_gl))\n",
    "print(np.mean(dhf_doench_mm_no_em))\n",
    "\n",
    "test_performance(dhf_doench_mm_full, dhf_doench_mm_gl)\n",
    "test_performance(dhf_doench_mm_ll, dhf_doench_mm_gl)\n",
    "test_performance(dhf_doench_mm_no_em, dhf_doench_mm_gl)"
   ]
  }
 ],
 "metadata": {
  "kernelspec": {
   "display_name": "Python 3",
   "language": "python",
   "name": "python3"
  },
  "language_info": {
   "codemirror_mode": {
    "name": "ipython",
    "version": 3
   },
   "file_extension": ".py",
   "mimetype": "text/x-python",
   "name": "python",
   "nbconvert_exporter": "python",
   "pygments_lexer": "ipython3",
   "version": "3.11.4"
  }
 },
 "nbformat": 4,
 "nbformat_minor": 2
}
